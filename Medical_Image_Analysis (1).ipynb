{
  "nbformat": 4,
  "nbformat_minor": 0,
  "metadata": {
    "colab": {
      "name": "Medical_Image_Analysis.ipynb",
      "version": "0.3.2",
      "provenance": [],
      "collapsed_sections": []
    },
    "kernelspec": {
      "name": "python3",
      "display_name": "Python 3"
    }
  },
  "cells": [
    {
      "metadata": {
        "id": "davtXO3wQs60",
        "colab_type": "text"
      },
      "cell_type": "markdown",
      "source": [
        "### Downloading Imageio library in local environment"
      ]
    },
    {
      "metadata": {
        "id": "T_BzkctJ4ZbK",
        "colab_type": "code",
        "colab": {}
      },
      "cell_type": "code",
      "source": [
        "!pip install imageio"
      ],
      "execution_count": 0,
      "outputs": []
    },
    {
      "metadata": {
        "id": "j32gwbOWQ3Ck",
        "colab_type": "text"
      },
      "cell_type": "markdown",
      "source": [
        "### Downloading DICOM Dataset from Github"
      ]
    },
    {
      "metadata": {
        "id": "Zd-m2H_e5T5Q",
        "colab_type": "code",
        "colab": {}
      },
      "cell_type": "code",
      "source": [
        "!git clone https://github.com/Heisenberg0203/PUBG.git"
      ],
      "execution_count": 0,
      "outputs": []
    },
    {
      "metadata": {
        "id": "GSMwkuwd-fka",
        "colab_type": "code",
        "colab": {}
      },
      "cell_type": "code",
      "source": [
        "!ls PUBG/MRi/SCD2001_010"
      ],
      "execution_count": 0,
      "outputs": []
    },
    {
      "metadata": {
        "id": "qSJEgyCnQ8uK",
        "colab_type": "text"
      },
      "cell_type": "markdown",
      "source": [
        "###Importing Required Libraries"
      ]
    },
    {
      "metadata": {
        "id": "a8nN30fS-YtH",
        "colab_type": "code",
        "colab": {}
      },
      "cell_type": "code",
      "source": [
        "import imageio\n",
        "import matplotlib.pyplot as plt\n",
        "import numpy as np"
      ],
      "execution_count": 0,
      "outputs": []
    },
    {
      "metadata": {
        "id": "5S9izXZSQ8Jo",
        "colab_type": "text"
      },
      "cell_type": "markdown",
      "source": [
        "1. Reading Image"
      ]
    },
    {
      "metadata": {
        "id": "VhG1S-sY-efj",
        "colab_type": "code",
        "colab": {}
      },
      "cell_type": "code",
      "source": [
        "\n",
        "image = imageio.imread('PUBG/MRi/SCD2001_010/SCD2001_MR_001.dcm')\n",
        "\n",
        "print('Image type:', type(image))\n",
        "print('Shape of image array:', image.shape)"
      ],
      "execution_count": 0,
      "outputs": []
    },
    {
      "metadata": {
        "id": "IbwMQgIERDgh",
        "colab_type": "text"
      },
      "cell_type": "markdown",
      "source": [
        "2. Metadata of Dicom Image"
      ]
    },
    {
      "metadata": {
        "id": "55aXPkYA-03H",
        "colab_type": "code",
        "colab": {}
      },
      "cell_type": "code",
      "source": [
        "image.meta.keys()"
      ],
      "execution_count": 0,
      "outputs": []
    },
    {
      "metadata": {
        "id": "kHTynPoARGZO",
        "colab_type": "text"
      },
      "cell_type": "markdown",
      "source": [
        "3. Plotting Image"
      ]
    },
    {
      "metadata": {
        "id": "-2r-_mgZ_uIH",
        "colab_type": "code",
        "colab": {}
      },
      "cell_type": "code",
      "source": [
        "plt.imshow(image,)\n",
        "plt.show()"
      ],
      "execution_count": 0,
      "outputs": []
    },
    {
      "metadata": {
        "id": "JxztCMgdTHWT",
        "colab_type": "text"
      },
      "cell_type": "markdown",
      "source": [
        "3.2 Plotting Image in greyscale"
      ]
    },
    {
      "metadata": {
        "id": "Xng5W3sYTQOG",
        "colab_type": "code",
        "colab": {}
      },
      "cell_type": "code",
      "source": [
        "plt.imshow(image,cmap='gray')\n",
        "plt.show()"
      ],
      "execution_count": 0,
      "outputs": []
    },
    {
      "metadata": {
        "id": "b2xG2ETLRNl4",
        "colab_type": "text"
      },
      "cell_type": "markdown",
      "source": [
        "4. Plotting Image : - Adjusting Contrast to view better"
      ]
    },
    {
      "metadata": {
        "id": "gSqab_beAn7Q",
        "colab_type": "code",
        "colab": {}
      },
      "cell_type": "code",
      "source": [
        "#vmin and vmax control the color contrast between values. \n",
        "plt.imshow(image, cmap='gray', vmin=-50, vmax=50)\n",
        "plt.axis('off')\n",
        "plt.show()"
      ],
      "execution_count": 0,
      "outputs": []
    },
    {
      "metadata": {
        "id": "CPqa4I6ERTr_",
        "colab_type": "text"
      },
      "cell_type": "markdown",
      "source": [
        "### N -Dimensional Images"
      ]
    },
    {
      "metadata": {
        "id": "sGgrtPq_A1ZT",
        "colab_type": "code",
        "colab": {}
      },
      "cell_type": "code",
      "source": [
        "##n -dim images\n",
        "\n",
        "image1 = imageio.imread('PUBG/MRi/SCD2001_010/SCD2001_MR_001.dcm')\n",
        "image2 = imageio.imread('PUBG/MRi/SCD2001_010/SCD2001_MR_002.dcm')\n",
        "image3 = imageio.imread('PUBG/MRi/SCD2001_010/SCD2001_MR_003.dcm')"
      ],
      "execution_count": 0,
      "outputs": []
    },
    {
      "metadata": {
        "id": "D4JzF_3dRkCt",
        "colab_type": "text"
      },
      "cell_type": "markdown",
      "source": [
        "--Stacking the 3Images to get Volumetric Data"
      ]
    },
    {
      "metadata": {
        "id": "j9yFVYEcBYOn",
        "colab_type": "code",
        "colab": {}
      },
      "cell_type": "code",
      "source": [
        "volume = np.stack([image1, image2, image3], axis=0)\n",
        "print('Volume dimensions:', volume.shape)"
      ],
      "execution_count": 0,
      "outputs": []
    },
    {
      "metadata": {
        "id": "wHt4n5PARpQH",
        "colab_type": "text"
      },
      "cell_type": "markdown",
      "source": [
        "5. Reading Complete Directory"
      ]
    },
    {
      "metadata": {
        "id": "wJaOB8pjBixk",
        "colab_type": "code",
        "colab": {}
      },
      "cell_type": "code",
      "source": [
        "\n",
        "volume = imageio.volread('PUBG/MRi/SCD2001_010/')\n",
        "\n",
        "print('Available metadata:', volume.meta.keys())\n",
        "print('Shape of image array:', volume.shape)"
      ],
      "execution_count": 0,
      "outputs": []
    },
    {
      "metadata": {
        "id": "GjnlLfKZCTN5",
        "colab_type": "text"
      },
      "cell_type": "markdown",
      "source": [
        "The amount of physical space covered by an image is its field of view, which is calculated from two properties:\n",
        "\n",
        "Array shape, the number of data elements on each axis. Can be accessed with the shape attribute.\n",
        "Sampling resolution, the amount of physical space covered by each pixel. Sometimes available in metadata (e.g., meta['sampling'])."
      ]
    },
    {
      "metadata": {
        "id": "0SedRbcWB_-v",
        "colab_type": "code",
        "colab": {}
      },
      "cell_type": "code",
      "source": [
        "\n",
        "n0, n1, n2 = volume.shape\n",
        "d0, d1, d2 = volume.meta['sampling']\n",
        "n0 * d0, n1 * d1, n2 * d2"
      ],
      "execution_count": 0,
      "outputs": []
    },
    {
      "metadata": {
        "id": "MHak7DHDR0UY",
        "colab_type": "text"
      },
      "cell_type": "markdown",
      "source": [
        "### Plotting Multiple Images at Once"
      ]
    },
    {
      "metadata": {
        "id": "knXhqRJhCUo3",
        "colab_type": "code",
        "colab": {}
      },
      "cell_type": "code",
      "source": [
        "# Initialize figure and axes grid\n",
        "fig, axes = plt.subplots(nrows=2, ncols=1)\n",
        "\n",
        "# Draw an image on each subplot\n",
        "axes[0].imshow(image1, cmap='gray')\n",
        "axes[1].imshow(image2, cmap='gray')\n",
        "\n",
        "# Remove ticks/labels and render\n",
        "axes[0].axis('off')\n",
        "axes[1].axis('off')\n",
        "plt.show()"
      ],
      "execution_count": 0,
      "outputs": []
    },
    {
      "metadata": {
        "id": "nHAIHpqFR5Pb",
        "colab_type": "text"
      },
      "cell_type": "markdown",
      "source": [
        "##Plotting several slices of Dataset"
      ]
    },
    {
      "metadata": {
        "id": "UsGsU8LAF0iA",
        "colab_type": "code",
        "colab": {}
      },
      "cell_type": "code",
      "source": [
        "fig, axes = plt.subplots(nrows=1, ncols=4)\n",
        "\n",
        "# Loop through subplots and draw image\n",
        "for ii in range(4):\n",
        "    im = volume[ii * 5, :, :]\n",
        "    axes[ii].imshow(image, cmap='gray')\n",
        "    axes[ii].axis('off')\n",
        "\n",
        "# Render the figure\n",
        "plt.show()"
      ],
      "execution_count": 0,
      "outputs": []
    },
    {
      "metadata": {
        "id": "S-WtdNRvGiIp",
        "colab_type": "text"
      },
      "cell_type": "markdown",
      "source": [
        "###Determining Aspect Ratios to get Different View of Image"
      ]
    },
    {
      "metadata": {
        "id": "sJTt0OClGiQW",
        "colab_type": "text"
      },
      "cell_type": "markdown",
      "source": [
        "To calculate aspect ratios, first retrieve the sampling rates along each dimension: d0, d1, d2 = vol.meta['sampling']. To plot \"axis 0 vs. axis 2\", you must determine how much to widen pixels on \"axis 0\": d0 / d2"
      ]
    },
    {
      "metadata": {
        "id": "m4Ys4Wy8GMCo",
        "colab_type": "code",
        "colab": {}
      },
      "cell_type": "code",
      "source": [
        "\n",
        "image1 = vol[:, 128, :]\n",
        "image2 = vol[:, :, 128]\n",
        "\n",
        "# Compute aspect ratios\n",
        "d0, d1, d2 = volume.meta['sampling']\n",
        "asp1 = d0 / d2\n",
        "asp2 = d0 / d1\n",
        "\n",
        "# Plot the images on a subplots array \n",
        "fig, axes = plt.subplots(nrows=2, ncols=1)\n",
        "axes[0].imshow(image1, cmap='gray',aspect=16/3 )\n",
        "axes[1].imshow(image2, cmap='gray', aspect = 4)\n",
        "plt.show()"
      ],
      "execution_count": 0,
      "outputs": []
    },
    {
      "metadata": {
        "id": "x8svVI4KSP46",
        "colab_type": "text"
      },
      "cell_type": "markdown",
      "source": [
        "### Plotting GrayScale Image"
      ]
    },
    {
      "metadata": {
        "id": "sjpW0zekGmHe",
        "colab_type": "code",
        "colab": {}
      },
      "cell_type": "code",
      "source": [
        "image = imageio.imread('PUBG/MRi/SCD2001_010/SCD2001_MR_005.dcm')\n",
        "print('Data type:', image.dtype)\n",
        "print('Min. value:', image.min())\n",
        "print('Max value:', image.max())\n",
        "\n",
        "# Plot the grayscale image\n",
        "plt.imshow(image, vmin=0, vmax=255)\n",
        "plt.colorbar()\n",
        "plt.show()"
      ],
      "execution_count": 0,
      "outputs": []
    },
    {
      "metadata": {
        "id": "to6HrVEZLWC_",
        "colab_type": "text"
      },
      "cell_type": "markdown",
      "source": [
        "Histograms display the distribution of values in your image by binning each element by its intensity then measuring the size of each bin.\n",
        "\n",
        "The area under a histogram is called the cumulative distribution function. It measures the frequency with which a given range of pixel intensities occurs."
      ]
    },
    {
      "metadata": {
        "id": "8R4Y-a03ST6d",
        "colab_type": "text"
      },
      "cell_type": "markdown",
      "source": [
        "## Intensity Measurement "
      ]
    },
    {
      "metadata": {
        "id": "6wS5CX-EI0Vr",
        "colab_type": "code",
        "colab": {}
      },
      "cell_type": "code",
      "source": [
        "import scipy.ndimage as ndi\n",
        "\n",
        "# Generate histogram\n",
        "hist = ndi.histogram(image, min=0, max=255, bins=256)\n",
        "\n",
        "# Calculate cumulative distribution\n",
        "cdf = hist.cumsum() / hist.sum()\n",
        "\n",
        "# Plot the histogram and CDF\n",
        "fig, axes = plt.subplots(2,1, sharex=True)\n",
        "axes[0].plot(hist, label='Histogram')\n",
        "axes[1].plot(cdf, label='CDF')"
      ],
      "execution_count": 0,
      "outputs": []
    },
    {
      "metadata": {
        "id": "LSBSdwL9L2tX",
        "colab_type": "text"
      },
      "cell_type": "markdown",
      "source": [
        "The full image is a 3D time series spanning a single heartbeat. These data are used by radiologists to measure the ejection fraction: the proportion of blood ejected from the left ventricle during each stroke.\n",
        "\n"
      ]
    },
    {
      "metadata": {
        "id": "EWXwq4oPSYj5",
        "colab_type": "text"
      },
      "cell_type": "markdown",
      "source": [
        "## Creating a Mask of an Image('Heart')"
      ]
    },
    {
      "metadata": {
        "id": "XODO_E3pLMao",
        "colab_type": "code",
        "colab": {}
      },
      "cell_type": "code",
      "source": [
        "image_filter = ndi.median_filter(image, size=3)\n",
        "\n",
        "# Select high-intensity pixels\n",
        "mask_start = np.where(image_filter > 60, 1, 0)\n",
        "mask = ndi.binary_closing(mask_start)\n",
        "\n",
        "# Label the objects in \"mask\"\n",
        "labels, nlabels = ndi.label(mask)\n",
        "print('Num. Labels:', nlabels)"
      ],
      "execution_count": 0,
      "outputs": []
    },
    {
      "metadata": {
        "id": "PmD-aNo3Sf1z",
        "colab_type": "text"
      },
      "cell_type": "markdown",
      "source": [
        "###Plotting the Overlay Mask"
      ]
    },
    {
      "metadata": {
        "id": "zAG4qRLML1UP",
        "colab_type": "code",
        "colab": {}
      },
      "cell_type": "code",
      "source": [
        "# Label the image \"mask\"\n",
        "labels, nlabels = ndi.label(mask)\n",
        "\n",
        "# Select left ventricle pixels\n",
        "lv_val = labels[128, 128]\n",
        "lv_mask = np.where(labels == lv_val, 1, np.nan)\n",
        "\n",
        "# Overlay selected label\n",
        "plt.imshow(lv_mask, cmap='rainbow')\n",
        "plt.show()"
      ],
      "execution_count": 0,
      "outputs": []
    },
    {
      "metadata": {
        "id": "euGJtXC3Seh6",
        "colab_type": "text"
      },
      "cell_type": "markdown",
      "source": [
        "##Plotting only a specific part - left ventricle"
      ]
    },
    {
      "metadata": {
        "id": "H9GuKNfNMNjB",
        "colab_type": "code",
        "colab": {}
      },
      "cell_type": "code",
      "source": [
        "# Create left ventricle mask\n",
        "labels, nlabels = ndi.label(mask)\n",
        "lv_val = labels[128, 128]\n",
        "lv_mask = np.where(labels == lv_val, 1, 0)"
      ],
      "execution_count": 0,
      "outputs": []
    },
    {
      "metadata": {
        "id": "7OFJDxewMvXB",
        "colab_type": "code",
        "colab": {}
      },
      "cell_type": "code",
      "source": [
        "\n",
        "# Find bounding box of left ventricle\n",
        "bboxes = ndi.find_objects(lv_mask)\n",
        "print('Number of objects:', len(bboxes))\n",
        "print('Indices for first box:', bboxes[0])"
      ],
      "execution_count": 0,
      "outputs": []
    },
    {
      "metadata": {
        "id": "2kKYkMSmNVYT",
        "colab_type": "code",
        "colab": {}
      },
      "cell_type": "code",
      "source": [
        "# Crop to the left ventricle (index 0)\n",
        "im_lv = im[bboxes[0]]\n",
        "\n",
        "# Plot the cropped image\n",
        "plt.imshow(im_lv)"
      ],
      "execution_count": 0,
      "outputs": []
    },
    {
      "metadata": {
        "id": "tWQiafB9No0Y",
        "colab_type": "text"
      },
      "cell_type": "markdown",
      "source": [
        "Quantifying tissue morphology, or shape is one primary objective of biomedical imaging. The size, shape, and uniformity of a tissue can reveal essential health insights."
      ]
    },
    {
      "metadata": {
        "id": "zA7mIWYoSrc2",
        "colab_type": "text"
      },
      "cell_type": "markdown",
      "source": [
        "##Finding Volume of Image"
      ]
    },
    {
      "metadata": {
        "id": "2SsZtXdoNduA",
        "colab_type": "code",
        "colab": {}
      },
      "cell_type": "code",
      "source": [
        "pixels =ndi.sum(1, labels, index=1)\n",
        "unitvolume = vol.meta['sampling']"
      ],
      "execution_count": 0,
      "outputs": []
    },
    {
      "metadata": {
        "id": "aNwc8IWhPs4T",
        "colab_type": "code",
        "colab": {}
      },
      "cell_type": "code",
      "source": [
        "volume.shape"
      ],
      "execution_count": 0,
      "outputs": []
    },
    {
      "metadata": {
        "id": "6N-T1JgiOSZZ",
        "colab_type": "code",
        "colab": {}
      },
      "cell_type": "code",
      "source": [
        "volume_of_left_ventricle = pixels *unitvolume[0]*unitvolume[1]*unitvolume[2]"
      ],
      "execution_count": 0,
      "outputs": []
    },
    {
      "metadata": {
        "id": "uya5imNdOelm",
        "colab_type": "code",
        "colab": {}
      },
      "cell_type": "code",
      "source": [
        "volume_of_left_ventricle"
      ],
      "execution_count": 0,
      "outputs": []
    },
    {
      "metadata": {
        "id": "yzmmdvlpQr9r",
        "colab_type": "text"
      },
      "cell_type": "markdown",
      "source": [
        ""
      ]
    }
  ]
}