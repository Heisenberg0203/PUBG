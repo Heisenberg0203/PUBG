{
  "nbformat": 4,
  "nbformat_minor": 0,
  "metadata": {
    "colab": {
      "name": "Scipy_Pubg_Divein.ipynb",
      "version": "0.3.2",
      "provenance": [],
      "collapsed_sections": []
    },
    "kernelspec": {
      "name": "python3",
      "display_name": "Python 3"
    }
  },
  "cells": [
    {
      "metadata": {
        "id": "mpg9AhCyVlTl",
        "colab_type": "text"
      },
      "cell_type": "markdown",
      "source": [
        "# Install Java, Spark, and Findspark\n",
        "This installs Apache Spark 2.2.1, Java 8, and [Findspark](https://github.com/minrk/findspark), a library that makes it easy for Python to find Spark."
      ]
    },
    {
      "metadata": {
        "id": "wt3TfM6Mw7uu",
        "colab_type": "code",
        "colab": {}
      },
      "cell_type": "code",
      "source": [
        "!apt-get install openjdk-8-jdk-headless -qq > /dev/null\n",
        "!wget -q https://www-us.apache.org/dist/spark/spark-2.4.0/spark-2.4.0-bin-hadoop2.7.tgz"
      ],
      "execution_count": 0,
      "outputs": []
    },
    {
      "metadata": {
        "id": "7XmUIOenw9og",
        "colab_type": "code",
        "colab": {}
      },
      "cell_type": "code",
      "source": [
        "!tar xf spark-2.4.0-bin-hadoop2.7.tgz\n",
        "!pip install -q findspark"
      ],
      "execution_count": 0,
      "outputs": []
    },
    {
      "metadata": {
        "id": "z-noqzkwV-gi",
        "colab_type": "text"
      },
      "cell_type": "markdown",
      "source": [
        "# Set Environment Variables\n",
        "Set the locations where Spark and Java are installed."
      ]
    },
    {
      "metadata": {
        "id": "cWbdGiXYxCUo",
        "colab_type": "code",
        "colab": {}
      },
      "cell_type": "code",
      "source": [
        "import os\n",
        "os.environ[\"JAVA_HOME\"] = \"/usr/lib/jvm/java-8-openjdk-amd64\"\n",
        "os.environ[\"SPARK_HOME\"] = \"/content/spark-2.4.0-bin-hadoop2.7\""
      ],
      "execution_count": 0,
      "outputs": []
    },
    {
      "metadata": {
        "id": "0nNBeLwuEY2e",
        "colab_type": "text"
      },
      "cell_type": "markdown",
      "source": [
        "# Start a SparkSession\n",
        "This will start a local Spark session."
      ]
    },
    {
      "metadata": {
        "id": "4ikID2bxxVtl",
        "colab_type": "code",
        "colab": {}
      },
      "cell_type": "code",
      "source": [
        "import findspark\n",
        "findspark.init()\n",
        "from pyspark.sql import SparkSession"
      ],
      "execution_count": 0,
      "outputs": []
    },
    {
      "metadata": {
        "id": "byqVgBvfxFq4",
        "colab_type": "code",
        "colab": {}
      },
      "cell_type": "code",
      "source": [
        "from pyspark import SparkContext, SparkConf"
      ],
      "execution_count": 0,
      "outputs": []
    },
    {
      "metadata": {
        "id": "rrnck1RCxOtb",
        "colab_type": "code",
        "colab": {}
      },
      "cell_type": "code",
      "source": [
        "conf = SparkConf().setAppName(\"Scipy\").setMaster(\"local[*]\")\n",
        "sc = SparkContext(conf=conf)"
      ],
      "execution_count": 0,
      "outputs": []
    },
    {
      "metadata": {
        "id": "7fHiT_D8D0Lo",
        "colab_type": "text"
      },
      "cell_type": "markdown",
      "source": [
        "#**Dataset: - PubG : Introduction to Dataframe **"
      ]
    },
    {
      "metadata": {
        "id": "sNx9v2ZBkrMq",
        "colab_type": "text"
      },
      "cell_type": "markdown",
      "source": [
        "Cloning data from github Repository :-  https://github.com/Heisenberg0203/PUBG.git"
      ]
    },
    {
      "metadata": {
        "id": "dfBMr748QuVm",
        "colab_type": "code",
        "cellView": "code",
        "colab": {}
      },
      "cell_type": "code",
      "source": [
        "!git clone https://github.com/Heisenberg0203/PUBG.git"
      ],
      "execution_count": 0,
      "outputs": []
    },
    {
      "metadata": {
        "id": "MvMVyixLNG1Y",
        "colab_type": "code",
        "colab": {}
      },
      "cell_type": "code",
      "source": [
        "!ls PUBG/"
      ],
      "execution_count": 0,
      "outputs": []
    },
    {
      "metadata": {
        "id": "EVMMv2RENOp9",
        "colab_type": "code",
        "colab": {}
      },
      "cell_type": "code",
      "source": [
        "dataset = sc.textFile('PUBG/PUBG_Player_Statistics.csv')"
      ],
      "execution_count": 0,
      "outputs": []
    },
    {
      "metadata": {
        "id": "BTE04WByTxnU",
        "colab_type": "code",
        "colab": {}
      },
      "cell_type": "code",
      "source": [
        "dataset.collect()[0:5]"
      ],
      "execution_count": 0,
      "outputs": []
    },
    {
      "metadata": {
        "id": "i5nIVmBvWSow",
        "colab_type": "text"
      },
      "cell_type": "markdown",
      "source": [
        "### Kill Count"
      ]
    },
    {
      "metadata": {
        "id": "apqXr6ogR_3n",
        "colab_type": "code",
        "colab": {}
      },
      "cell_type": "code",
      "source": [
        "from pyspark.sql import SQLContext\n",
        "sqlContext = SQLContext(sc)"
      ],
      "execution_count": 0,
      "outputs": []
    },
    {
      "metadata": {
        "id": "ofLvKuR-W1xs",
        "colab_type": "code",
        "colab": {}
      },
      "cell_type": "code",
      "source": [
        "dataset = sqlContext.read.format(\"com.databricks.spark.csv\").options(header='true',inferschema='true').load('PUBG/PUBG_Player_Statistics.csv')"
      ],
      "execution_count": 0,
      "outputs": []
    },
    {
      "metadata": {
        "id": "j4FlVotfSBhF",
        "colab_type": "code",
        "colab": {}
      },
      "cell_type": "code",
      "source": [
        "dataset.printSchema()"
      ],
      "execution_count": 0,
      "outputs": []
    },
    {
      "metadata": {
        "id": "NMpjRDc6jwjt",
        "colab_type": "text"
      },
      "cell_type": "markdown",
      "source": [
        "####Top 10 Player who have killed the most in Solo Match"
      ]
    },
    {
      "metadata": {
        "id": "b6YWHCAES004",
        "colab_type": "code",
        "colab": {}
      },
      "cell_type": "code",
      "source": [
        "solokill=dataset.select(['player_name','solo_Kills'])\n",
        "solokill.take(5)"
      ],
      "execution_count": 0,
      "outputs": []
    },
    {
      "metadata": {
        "id": "S9dhwS1wlAJo",
        "colab_type": "code",
        "colab": {}
      },
      "cell_type": "code",
      "source": [
        "from pyspark.sql.functions import desc"
      ],
      "execution_count": 0,
      "outputs": []
    },
    {
      "metadata": {
        "id": "IWh_yMsPYJjF",
        "colab_type": "code",
        "colab": {}
      },
      "cell_type": "code",
      "source": [
        "solokill.sort(desc('solo_Kills')).show(10)"
      ],
      "execution_count": 0,
      "outputs": []
    },
    {
      "metadata": {
        "id": "Jw-Sv6OXkRII",
        "colab_type": "code",
        "colab": {}
      },
      "cell_type": "code",
      "source": [
        "import matplotlib.pyplot as plt"
      ],
      "execution_count": 0,
      "outputs": []
    },
    {
      "metadata": {
        "id": "HsaHsFZ_ldOB",
        "colab_type": "code",
        "colab": {}
      },
      "cell_type": "code",
      "source": [
        "\n",
        "a=solokill.sort(desc('solo_Kills')).limit(10)"
      ],
      "execution_count": 0,
      "outputs": []
    },
    {
      "metadata": {
        "id": "-5iqydGSmwS-",
        "colab_type": "code",
        "colab": {}
      },
      "cell_type": "code",
      "source": [
        "a = a.toPandas()"
      ],
      "execution_count": 0,
      "outputs": []
    },
    {
      "metadata": {
        "id": "hcu08aMkl2qi",
        "colab_type": "code",
        "colab": {}
      },
      "cell_type": "code",
      "source": [
        "plt.bar(x=a.player_name,height=a.solo_Kills)\n",
        "plt.xticks(rotation=90)\n",
        "plt.show()"
      ],
      "execution_count": 0,
      "outputs": []
    },
    {
      "metadata": {
        "id": "-82dUWRZmrIZ",
        "colab_type": "code",
        "cellView": "form",
        "colab": {}
      },
      "cell_type": "code",
      "source": [
        "#@title Exercise\n",
        "##Plot Duo_kills of the Player"
      ],
      "execution_count": 0,
      "outputs": []
    },
    {
      "metadata": {
        "id": "UP5lHW_asFZ4",
        "colab_type": "text"
      },
      "cell_type": "markdown",
      "source": [
        "### Player with maximum solo win ratio"
      ]
    },
    {
      "metadata": {
        "id": "G78qndO9onkI",
        "colab_type": "code",
        "colab": {}
      },
      "cell_type": "code",
      "source": [
        "solowin=dataset.select(['player_name','solo_WinRatio'])\n",
        "solowin.take(5)"
      ],
      "execution_count": 0,
      "outputs": []
    },
    {
      "metadata": {
        "id": "27_GBJRzonrI",
        "colab_type": "code",
        "colab": {}
      },
      "cell_type": "code",
      "source": [
        "solowin.sort(desc('solo_WinRatio')).show(10)"
      ],
      "execution_count": 0,
      "outputs": []
    },
    {
      "metadata": {
        "id": "3xdgAYoas6Ad",
        "colab_type": "text"
      },
      "cell_type": "markdown",
      "source": [
        "### Similarly we can find for duo_WinRatio and squad_WinRatio"
      ]
    },
    {
      "metadata": {
        "id": "inGm10JWoniB",
        "colab_type": "code",
        "colab": {}
      },
      "cell_type": "code",
      "source": [
        "duowin=dataset.select(['player_name','duo_WinRatio'])\n",
        "duowin.take(5)\n",
        "duowin.sort(desc('duo_WinRatio')).show(10)"
      ],
      "execution_count": 0,
      "outputs": []
    },
    {
      "metadata": {
        "id": "_4xy3jrQu1kH",
        "colab_type": "code",
        "colab": {}
      },
      "cell_type": "code",
      "source": [
        "squadwin=dataset.select(['player_name','squad_WinRatio'])\n",
        "squadwin.take(5)\n",
        "squadwin.sort(desc('squad_WinRatio')).show(10)"
      ],
      "execution_count": 0,
      "outputs": []
    },
    {
      "metadata": {
        "id": "FuZ6BqK_tHh5",
        "colab_type": "text"
      },
      "cell_type": "markdown",
      "source": [
        "## Player with maximum solo,duo,squad ratio"
      ]
    },
    {
      "metadata": {
        "id": "mVpQJ6T2onfx",
        "colab_type": "code",
        "colab": {}
      },
      "cell_type": "code",
      "source": [
        "win=dataset.select(['player_name','solo_WinRatio','duo_WinRatio','squad_WinRatio'])\n",
        "win.take(5)"
      ],
      "execution_count": 0,
      "outputs": []
    },
    {
      "metadata": {
        "id": "JV4ksMDGtdae",
        "colab_type": "code",
        "colab": {}
      },
      "cell_type": "code",
      "source": [
        "winf=win.withColumn('total', sum(win[col] for col in ['solo_WinRatio','duo_WinRatio','squad_WinRatio']))\n",
        "winf.take(5)"
      ],
      "execution_count": 0,
      "outputs": []
    },
    {
      "metadata": {
        "id": "aTsJBH_XuJob",
        "colab_type": "code",
        "colab": {}
      },
      "cell_type": "code",
      "source": [
        "winf.sort(desc('total')).show(10)\n"
      ],
      "execution_count": 0,
      "outputs": []
    },
    {
      "metadata": {
        "id": "vJ8FnObUyIJx",
        "colab_type": "code",
        "colab": {}
      },
      "cell_type": "code",
      "source": [
        "wint=winf.sort(desc('total')).limit(10)\n",
        "wint = wint.toPandas()"
      ],
      "execution_count": 0,
      "outputs": []
    },
    {
      "metadata": {
        "id": "NLAVjSyMuTCM",
        "colab_type": "code",
        "colab": {}
      },
      "cell_type": "code",
      "source": [
        "wint[['solo_WinRatio','duo_WinRatio','squad_WinRatio']].plot(kind='bar',stacked='True')"
      ],
      "execution_count": 0,
      "outputs": []
    },
    {
      "metadata": {
        "id": "jsAn9vLlxR2E",
        "colab_type": "code",
        "cellView": "form",
        "colab": {}
      },
      "cell_type": "code",
      "source": [
        "#@title Exercise\n",
        "##Which ride(Walk or Ride) is prefereed by Top 10 Players"
      ],
      "execution_count": 0,
      "outputs": []
    },
    {
      "metadata": {
        "id": "MqckD_IS_Q8t",
        "colab_type": "text"
      },
      "cell_type": "markdown",
      "source": [
        "###Kills and Heals vs Win Ratio"
      ]
    },
    {
      "metadata": {
        "id": "3N1zg_xzzPlU",
        "colab_type": "code",
        "colab": {}
      },
      "cell_type": "code",
      "source": [
        "multigraph = dataset.select(['solo_Kills','solo_Heals','solo_Revives','solo_Boosts'])\n",
        "killdata = multigraph.groupby(['solo_Kills']).count()\n",
        "healdata = multigraph.groupby(['solo_Heals']).count()\n",
        "##sort in descending order\n",
        "sortedkilldata = killdata.sort(desc('count'))\n",
        "sortedhealdata = healdata.sort(desc('count'))"
      ],
      "execution_count": 0,
      "outputs": []
    },
    {
      "metadata": {
        "id": "YhIPbR2C2QwU",
        "colab_type": "code",
        "colab": {}
      },
      "cell_type": "code",
      "source": [
        "killdf=sortedkilldata.toPandas()\n",
        "healdf=sortedhealdata.toPandas()"
      ],
      "execution_count": 0,
      "outputs": []
    },
    {
      "metadata": {
        "id": "YcecGmuK3Kcq",
        "colab_type": "code",
        "colab": {}
      },
      "cell_type": "code",
      "source": [
        "print(killdf.head(5))\n",
        "print(healdf.head(5))"
      ],
      "execution_count": 0,
      "outputs": []
    },
    {
      "metadata": {
        "id": "U2Na695l1A91",
        "colab_type": "code",
        "colab": {}
      },
      "cell_type": "code",
      "source": [
        "plt.subplot(1,2,1)\n",
        "plt.plot(killdf['solo_Kills'],killdf['count'])\n",
        "plt.xlabel('No_of_Kills')\n",
        "plt.ylabel('WIN_RATIO')\n",
        "plt.subplot(1,2,2)\n",
        "plt.xlabel('No_of_Heals')\n",
        "plt.ylabel('WIN_RATIO')\n",
        "plt.plot(healdf['solo_Heals'],healdf['count'])"
      ],
      "execution_count": 0,
      "outputs": []
    },
    {
      "metadata": {
        "id": "62bQVI1d1fAk",
        "colab_type": "code",
        "cellView": "form",
        "colab": {}
      },
      "cell_type": "code",
      "source": [
        "#@title Exercise\n",
        "##Show No_of Revivies and No_Of Boosts in Overall Category"
      ],
      "execution_count": 0,
      "outputs": []
    },
    {
      "metadata": {
        "id": "vByO21hf7wcT",
        "colab_type": "text"
      },
      "cell_type": "markdown",
      "source": [
        "### Lets analyze the player with max solo_WinRatio using SparkSQL"
      ]
    },
    {
      "metadata": {
        "id": "IaiLowLZ77Q9",
        "colab_type": "code",
        "colab": {}
      },
      "cell_type": "code",
      "source": [
        "dataset.registerTempTable(\"dataset_table\")\n",
        "df=sqlContext.sql('SELECT MAX(solo_WinRatio) FROM dataset_table')\n",
        "df.show()"
      ],
      "execution_count": 0,
      "outputs": []
    },
    {
      "metadata": {
        "id": "OFVCk7Zp8r34",
        "colab_type": "code",
        "colab": {}
      },
      "cell_type": "code",
      "source": [
        "sqlContext.sql('SELECT * FROM dataset_table WHERE solo_WinRatio = 100 ' ).show()"
      ],
      "execution_count": 0,
      "outputs": []
    },
    {
      "metadata": {
        "id": "w6XmONOG-B45",
        "colab_type": "code",
        "colab": {}
      },
      "cell_type": "code",
      "source": [
        "from pyspark.sql import functions as func\n",
        "##winRatio vs solo_kills\n",
        "df1 = dataset.select(['solo_KillsPg','solo_WinRatio']).withColumn('solo_KillsPg',func.round(dataset['solo_KillsPg'],0))\n",
        "df1 = df1.groupby(['solo_KillsPg']).agg(func.avg('solo_WinRatio').alias('WinPerc'))\n",
        "##winRatio vs duo_kills\n",
        "df2 = dataset.select(['duo_KillsPg','duo_WinRatio']).withColumn('duo_KillsPg',func.round(dataset['duo_KillsPg'],0))\n",
        "df2 = df2.groupby(['duo_KillsPg']).agg(func.avg('duo_WinRatio').alias('WinPerc'))\n",
        "##winRatio vs squad_Kills\n",
        "df3 = dataset.select(['squad_KillsPg','squad_WinRatio']).withColumn('squad_KillsPg',func.round(dataset['squad_KillsPg'],0))\n",
        "df3 = df3.groupby(['squad_KillsPg']).agg(func.avg('squad_WinRatio').alias('WinPerc'))"
      ],
      "execution_count": 0,
      "outputs": []
    },
    {
      "metadata": {
        "id": "c9DHXil6pXnt",
        "colab_type": "code",
        "colab": {}
      },
      "cell_type": "code",
      "source": [
        "df2.collect()"
      ],
      "execution_count": 0,
      "outputs": []
    },
    {
      "metadata": {
        "id": "6-gPNvxIpLxv",
        "colab_type": "code",
        "colab": {}
      },
      "cell_type": "code",
      "source": [
        "pdf1 = df1.toPandas().sort_values(by='solo_KillsPg')\n",
        "pdf2 = df2.toPandas().sort_values(by='duo_KillsPg')\n",
        "pdf3 = df3.toPandas().sort_values(by='squad_KillsPg')\n",
        "\n",
        "plt.plot(pdf1['solo_KillsPg'],pdf1['WinPerc'],c='b')\n",
        "plt.plot(pdf2['duo_KillsPg'],pdf2['WinPerc'],c='g')\n",
        "plt.plot(pdf3['squad_KillsPg'],pdf3['WinPerc'],c='r')\n",
        "plt.text(15,30,'Solos',color='b',fontsize = 17,style = 'italic')\n",
        "plt.text(15,20,'Duos',color='g',fontsize = 17,style = 'italic')\n",
        "plt.text(15,10,'Squads',color='r',fontsize = 17,style = 'italic')\n",
        "plt.xlabel('Number of kills',)\n",
        "plt.ylabel('Win Percentage',)\n",
        "plt.title('Solo vs Duo vs Squad Kills',)\n",
        "plt.show()"
      ],
      "execution_count": 0,
      "outputs": []
    },
    {
      "metadata": {
        "id": "fh1ybuwPnVE-",
        "colab_type": "text"
      },
      "cell_type": "markdown",
      "source": [
        "##Pandas vs Spark"
      ]
    },
    {
      "metadata": {
        "id": "uLExCj_K49iv",
        "colab_type": "code",
        "colab": {}
      },
      "cell_type": "code",
      "source": [
        "##Pandas vs Spark\n",
        "from pyspark.sql.functions import col\n",
        "import time\n",
        "tic = time.time()\n",
        "sparkdata = sqlContext.read.format(\"com.databricks.spark.csv\").options(header='true',inferschema='true').load('PUBG/PUBG_Player_Statistics.csv').repartition(8)\n",
        "subset = sparkdata.select(['player_name','squad_Kills'])\n",
        "filterdata = subset.filter((col('squad_Kills')<5))\n",
        "sorteddata = filterdata.sort('squad_Kills')\n",
        "output = sorteddata.limit(10)\n",
        "toc =time.time()\n",
        "print(toc-tic)"
      ],
      "execution_count": 0,
      "outputs": []
    },
    {
      "metadata": {
        "id": "h7F_4THo8lad",
        "colab_type": "code",
        "colab": {}
      },
      "cell_type": "code",
      "source": [
        "import pandas as pd\n",
        "tic = time.time()\n",
        "dataframe = pd.read_csv('PUBG/PUBG_Player_Statistics.csv')\n",
        "subset = dataframe[['player_name','squad_Kills']]\n",
        "filterdata = subset[subset['squad_Kills']<5]\n",
        "sorteddata = filterdata.sort_values(by='squad_Kills')\n",
        "output = sorteddata.head(10)\n",
        "toc = time.time()\n",
        "print(toc-tic)\n",
        "                "
      ],
      "execution_count": 0,
      "outputs": []
    }
  ]
}